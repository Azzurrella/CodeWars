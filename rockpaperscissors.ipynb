{
 "cells": [
  {
   "cell_type": "markdown",
   "metadata": {},
   "source": [
    "Rock Paper Scissors\n",
    "Let's play! You have to return which player won! In case of a draw return Draw!.\n",
    "\n",
    "Examples(Input1, Input2 --> Output):\n",
    "\n",
    "\"scissors\", \"paper\" --> \"Player 1 won!\"\n",
    "\"scissors\", \"rock\" --> \"Player 2 won!\"\n",
    "\"paper\", \"paper\" --> \"Draw!\""
   ]
  },
  {
   "cell_type": "code",
   "execution_count": 2,
   "metadata": {},
   "outputs": [],
   "source": [
    "def rps(p1, p2):\n",
    "    if p1 == \"scissors\" and p2 == \"paper\":\n",
    "        return \"Player 1 won!\"\n",
    "    if p2 == \"scissors\" and p1 == \"paper\":\n",
    "        return \"Player 2 won!\"\n",
    "    if p1 == \"rock\" and p2 == \"paper\":\n",
    "        return \"Player 2 won!\"\n",
    "    if p2 == \"rock\" and p1 == \"paper\":\n",
    "        return \"Player 1 won!\"\n",
    "    if p1 == \"scissors\" and p2 == \"rock\":\n",
    "        return \"Player 2 won!\"\n",
    "    if p2 == \"scissors\" and p1 == \"rock\":\n",
    "        return \"Player 1 won!\"\n",
    "    if p2 == \"scissors\" and p1 == \"scissors\":\n",
    "        return \"Draw!\"\n",
    "    if p2 == \"paper\" and p1 == \"paper\":\n",
    "        return \"Draw!\"\n",
    "    if p2 == \"rock\" and p1 == \"rock\":\n",
    "        return \"Draw!\"\n",
    "\n",
    "#or\n",
    "\n",
    "def rps(p1, p2):\n",
    "    beats = {'rock': 'scissors', 'scissors': 'paper', 'paper': 'rock'}\n",
    "    if beats[p1] == p2:\n",
    "        return \"Player 1 won!\"\n",
    "    if beats[p2] == p1:\n",
    "        return \"Player 2 won!\"\n",
    "    return \"Draw!\"\n",
    "    "
   ]
  }
 ],
 "metadata": {
  "kernelspec": {
   "display_name": "Python 3",
   "language": "python",
   "name": "python3"
  },
  "language_info": {
   "codemirror_mode": {
    "name": "ipython",
    "version": 3
   },
   "file_extension": ".py",
   "mimetype": "text/x-python",
   "name": "python",
   "nbconvert_exporter": "python",
   "pygments_lexer": "ipython3",
   "version": "3.12.3"
  }
 },
 "nbformat": 4,
 "nbformat_minor": 2
}
